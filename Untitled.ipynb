{
 "cells": [
  {
   "cell_type": "code",
   "execution_count": 1,
   "id": "6d37d319",
   "metadata": {},
   "outputs": [
    {
     "name": "stdout",
     "output_type": "stream",
     "text": [
      "2024-11-04 11:55:47,833 INFO sqlalchemy.engine.Engine BEGIN (implicit)\n"
     ]
    },
    {
     "name": "stderr",
     "output_type": "stream",
     "text": [
      "/tmp/ipykernel_6140/2715559943.py:37: MovedIn20Warning: The ``declarative_base()`` function is now available as sqlalchemy.orm.declarative_base(). (deprecated since: 2.0) (Background on SQLAlchemy 2.0 at: https://sqlalche.me/e/b8d9)\n",
      "  Base = declarative_base()\n",
      "[cozepy][INFO][2024-11-04 11:55:47] BEGIN (implicit)\n"
     ]
    },
    {
     "name": "stdout",
     "output_type": "stream",
     "text": [
      "2024-11-04 11:55:47,836 INFO sqlalchemy.engine.Engine PRAGMA main.table_info(\"users\")\n"
     ]
    },
    {
     "name": "stderr",
     "output_type": "stream",
     "text": [
      "[cozepy][INFO][2024-11-04 11:55:47] PRAGMA main.table_info(\"users\")\n"
     ]
    },
    {
     "name": "stdout",
     "output_type": "stream",
     "text": [
      "2024-11-04 11:55:47,840 INFO sqlalchemy.engine.Engine [raw sql] ()\n"
     ]
    },
    {
     "name": "stderr",
     "output_type": "stream",
     "text": [
      "[cozepy][INFO][2024-11-04 11:55:47] [raw sql] ()\n"
     ]
    },
    {
     "name": "stdout",
     "output_type": "stream",
     "text": [
      "2024-11-04 11:55:47,845 INFO sqlalchemy.engine.Engine COMMIT\n"
     ]
    },
    {
     "name": "stderr",
     "output_type": "stream",
     "text": [
      "[cozepy][INFO][2024-11-04 11:55:47] COMMIT\n"
     ]
    },
    {
     "name": "stdout",
     "output_type": "stream",
     "text": [
      "2024-11-04 11:56:31,744 INFO sqlalchemy.engine.Engine BEGIN (implicit)\n"
     ]
    },
    {
     "name": "stderr",
     "output_type": "stream",
     "text": [
      "[cozepy][INFO][2024-11-04 11:56:31] BEGIN (implicit)\n"
     ]
    },
    {
     "name": "stdout",
     "output_type": "stream",
     "text": [
      "2024-11-04 11:56:31,758 INFO sqlalchemy.engine.Engine INSERT INTO users (telegram_id, name, age, reminder_date) VALUES (?, ?, ?, ?)\n"
     ]
    },
    {
     "name": "stderr",
     "output_type": "stream",
     "text": [
      "[cozepy][INFO][2024-11-04 11:56:31] INSERT INTO users (telegram_id, name, age, reminder_date) VALUES (?, ?, ?, ?)\n"
     ]
    },
    {
     "name": "stdout",
     "output_type": "stream",
     "text": [
      "2024-11-04 11:56:31,764 INFO sqlalchemy.engine.Engine [generated in 0.00692s] (1144650313, 'Ивац', 18, '2024-11-10')\n"
     ]
    },
    {
     "name": "stderr",
     "output_type": "stream",
     "text": [
      "[cozepy][INFO][2024-11-04 11:56:31] [generated in 0.00692s] (1144650313, 'Ивац', 18, '2024-11-10')\n"
     ]
    },
    {
     "name": "stdout",
     "output_type": "stream",
     "text": [
      "2024-11-04 11:56:31,775 INFO sqlalchemy.engine.Engine COMMIT\n"
     ]
    },
    {
     "name": "stderr",
     "output_type": "stream",
     "text": [
      "[cozepy][INFO][2024-11-04 11:56:31] COMMIT\n"
     ]
    },
    {
     "ename": "RuntimeError",
     "evalue": "Cannot close a running event loop",
     "output_type": "error",
     "traceback": [
      "\u001b[0;31m---------------------------------------------------------------------------\u001b[0m",
      "\u001b[0;31mRuntimeError\u001b[0m                              Traceback (most recent call last)",
      "Cell \u001b[0;32mIn[1], line 157\u001b[0m\n\u001b[1;32m    154\u001b[0m \u001b[38;5;66;03m# Запуск основного цикла\u001b[39;00m\n\u001b[1;32m    155\u001b[0m \u001b[38;5;28;01mif\u001b[39;00m \u001b[38;5;18m__name__\u001b[39m \u001b[38;5;241m==\u001b[39m \u001b[38;5;124m'\u001b[39m\u001b[38;5;124m__main__\u001b[39m\u001b[38;5;124m'\u001b[39m:\n\u001b[1;32m    156\u001b[0m     \u001b[38;5;66;03m# Запуск в фоновом режиме\u001b[39;00m\n\u001b[0;32m--> 157\u001b[0m     \u001b[43masyncio\u001b[49m\u001b[38;5;241;43m.\u001b[39;49m\u001b[43mrun\u001b[49m\u001b[43m(\u001b[49m\u001b[43mmain\u001b[49m\u001b[43m(\u001b[49m\u001b[43m)\u001b[49m\u001b[43m)\u001b[49m\n",
      "File \u001b[0;32m~/.local/lib/python3.12/site-packages/nest_asyncio.py:30\u001b[0m, in \u001b[0;36m_patch_asyncio.<locals>.run\u001b[0;34m(main, debug)\u001b[0m\n\u001b[1;32m     28\u001b[0m task \u001b[38;5;241m=\u001b[39m asyncio\u001b[38;5;241m.\u001b[39mensure_future(main)\n\u001b[1;32m     29\u001b[0m \u001b[38;5;28;01mtry\u001b[39;00m:\n\u001b[0;32m---> 30\u001b[0m     \u001b[38;5;28;01mreturn\u001b[39;00m \u001b[43mloop\u001b[49m\u001b[38;5;241;43m.\u001b[39;49m\u001b[43mrun_until_complete\u001b[49m\u001b[43m(\u001b[49m\u001b[43mtask\u001b[49m\u001b[43m)\u001b[49m\n\u001b[1;32m     31\u001b[0m \u001b[38;5;28;01mfinally\u001b[39;00m:\n\u001b[1;32m     32\u001b[0m     \u001b[38;5;28;01mif\u001b[39;00m \u001b[38;5;129;01mnot\u001b[39;00m task\u001b[38;5;241m.\u001b[39mdone():\n",
      "File \u001b[0;32m~/.local/lib/python3.12/site-packages/nest_asyncio.py:98\u001b[0m, in \u001b[0;36m_patch_loop.<locals>.run_until_complete\u001b[0;34m(self, future)\u001b[0m\n\u001b[1;32m     95\u001b[0m \u001b[38;5;28;01mif\u001b[39;00m \u001b[38;5;129;01mnot\u001b[39;00m f\u001b[38;5;241m.\u001b[39mdone():\n\u001b[1;32m     96\u001b[0m     \u001b[38;5;28;01mraise\u001b[39;00m \u001b[38;5;167;01mRuntimeError\u001b[39;00m(\n\u001b[1;32m     97\u001b[0m         \u001b[38;5;124m'\u001b[39m\u001b[38;5;124mEvent loop stopped before Future completed.\u001b[39m\u001b[38;5;124m'\u001b[39m)\n\u001b[0;32m---> 98\u001b[0m \u001b[38;5;28;01mreturn\u001b[39;00m \u001b[43mf\u001b[49m\u001b[38;5;241;43m.\u001b[39;49m\u001b[43mresult\u001b[49m\u001b[43m(\u001b[49m\u001b[43m)\u001b[49m\n",
      "File \u001b[0;32m/usr/lib/python3.12/asyncio/futures.py:203\u001b[0m, in \u001b[0;36mFuture.result\u001b[0;34m(self)\u001b[0m\n\u001b[1;32m    201\u001b[0m \u001b[38;5;28mself\u001b[39m\u001b[38;5;241m.\u001b[39m__log_traceback \u001b[38;5;241m=\u001b[39m \u001b[38;5;28;01mFalse\u001b[39;00m\n\u001b[1;32m    202\u001b[0m \u001b[38;5;28;01mif\u001b[39;00m \u001b[38;5;28mself\u001b[39m\u001b[38;5;241m.\u001b[39m_exception \u001b[38;5;129;01mis\u001b[39;00m \u001b[38;5;129;01mnot\u001b[39;00m \u001b[38;5;28;01mNone\u001b[39;00m:\n\u001b[0;32m--> 203\u001b[0m     \u001b[38;5;28;01mraise\u001b[39;00m \u001b[38;5;28mself\u001b[39m\u001b[38;5;241m.\u001b[39m_exception\u001b[38;5;241m.\u001b[39mwith_traceback(\u001b[38;5;28mself\u001b[39m\u001b[38;5;241m.\u001b[39m_exception_tb)\n\u001b[1;32m    204\u001b[0m \u001b[38;5;28;01mreturn\u001b[39;00m \u001b[38;5;28mself\u001b[39m\u001b[38;5;241m.\u001b[39m_result\n",
      "File \u001b[0;32m/usr/lib/python3.12/asyncio/tasks.py:314\u001b[0m, in \u001b[0;36mTask.__step_run_and_handle_result\u001b[0;34m(***failed resolving arguments***)\u001b[0m\n\u001b[1;32m    310\u001b[0m \u001b[38;5;28;01mtry\u001b[39;00m:\n\u001b[1;32m    311\u001b[0m     \u001b[38;5;28;01mif\u001b[39;00m exc \u001b[38;5;129;01mis\u001b[39;00m \u001b[38;5;28;01mNone\u001b[39;00m:\n\u001b[1;32m    312\u001b[0m         \u001b[38;5;66;03m# We use the `send` method directly, because coroutines\u001b[39;00m\n\u001b[1;32m    313\u001b[0m         \u001b[38;5;66;03m# don't have `__iter__` and `__next__` methods.\u001b[39;00m\n\u001b[0;32m--> 314\u001b[0m         result \u001b[38;5;241m=\u001b[39m \u001b[43mcoro\u001b[49m\u001b[38;5;241;43m.\u001b[39;49m\u001b[43msend\u001b[49m\u001b[43m(\u001b[49m\u001b[38;5;28;43;01mNone\u001b[39;49;00m\u001b[43m)\u001b[49m\n\u001b[1;32m    315\u001b[0m     \u001b[38;5;28;01melse\u001b[39;00m:\n\u001b[1;32m    316\u001b[0m         result \u001b[38;5;241m=\u001b[39m coro\u001b[38;5;241m.\u001b[39mthrow(exc)\n",
      "Cell \u001b[0;32mIn[1], line 149\u001b[0m, in \u001b[0;36mmain\u001b[0;34m()\u001b[0m\n\u001b[1;32m    146\u001b[0m scheduler\u001b[38;5;241m.\u001b[39mstart()\n\u001b[1;32m    148\u001b[0m \u001b[38;5;28;01mtry\u001b[39;00m:\n\u001b[0;32m--> 149\u001b[0m     \u001b[38;5;28;01mawait\u001b[39;00m \u001b[43mapplication\u001b[49m\u001b[38;5;241;43m.\u001b[39;49m\u001b[43mrun_polling\u001b[49m\u001b[43m(\u001b[49m\u001b[43m)\u001b[49m\n\u001b[1;32m    150\u001b[0m \u001b[38;5;28;01mfinally\u001b[39;00m:\n\u001b[1;32m    151\u001b[0m     scheduler\u001b[38;5;241m.\u001b[39mshutdown()  \u001b[38;5;66;03m# Завершение работы планировщика\u001b[39;00m\n",
      "File \u001b[0;32m~/.local/lib/python3.12/site-packages/telegram/ext/_application.py:881\u001b[0m, in \u001b[0;36mApplication.run_polling\u001b[0;34m(self, poll_interval, timeout, bootstrap_retries, read_timeout, write_timeout, connect_timeout, pool_timeout, allowed_updates, drop_pending_updates, close_loop, stop_signals)\u001b[0m\n\u001b[1;32m    878\u001b[0m \u001b[38;5;28;01mdef\u001b[39;00m \u001b[38;5;21merror_callback\u001b[39m(exc: TelegramError) \u001b[38;5;241m-\u001b[39m\u001b[38;5;241m>\u001b[39m \u001b[38;5;28;01mNone\u001b[39;00m:\n\u001b[1;32m    879\u001b[0m     \u001b[38;5;28mself\u001b[39m\u001b[38;5;241m.\u001b[39mcreate_task(\u001b[38;5;28mself\u001b[39m\u001b[38;5;241m.\u001b[39mprocess_error(error\u001b[38;5;241m=\u001b[39mexc, update\u001b[38;5;241m=\u001b[39m\u001b[38;5;28;01mNone\u001b[39;00m))\n\u001b[0;32m--> 881\u001b[0m \u001b[38;5;28;01mreturn\u001b[39;00m \u001b[38;5;28;43mself\u001b[39;49m\u001b[38;5;241;43m.\u001b[39;49m\u001b[43m__run\u001b[49m\u001b[43m(\u001b[49m\n\u001b[1;32m    882\u001b[0m \u001b[43m    \u001b[49m\u001b[43mupdater_coroutine\u001b[49m\u001b[38;5;241;43m=\u001b[39;49m\u001b[38;5;28;43mself\u001b[39;49m\u001b[38;5;241;43m.\u001b[39;49m\u001b[43mupdater\u001b[49m\u001b[38;5;241;43m.\u001b[39;49m\u001b[43mstart_polling\u001b[49m\u001b[43m(\u001b[49m\n\u001b[1;32m    883\u001b[0m \u001b[43m        \u001b[49m\u001b[43mpoll_interval\u001b[49m\u001b[38;5;241;43m=\u001b[39;49m\u001b[43mpoll_interval\u001b[49m\u001b[43m,\u001b[49m\n\u001b[1;32m    884\u001b[0m \u001b[43m        \u001b[49m\u001b[43mtimeout\u001b[49m\u001b[38;5;241;43m=\u001b[39;49m\u001b[43mtimeout\u001b[49m\u001b[43m,\u001b[49m\n\u001b[1;32m    885\u001b[0m \u001b[43m        \u001b[49m\u001b[43mbootstrap_retries\u001b[49m\u001b[38;5;241;43m=\u001b[39;49m\u001b[43mbootstrap_retries\u001b[49m\u001b[43m,\u001b[49m\n\u001b[1;32m    886\u001b[0m \u001b[43m        \u001b[49m\u001b[43mread_timeout\u001b[49m\u001b[38;5;241;43m=\u001b[39;49m\u001b[43mread_timeout\u001b[49m\u001b[43m,\u001b[49m\n\u001b[1;32m    887\u001b[0m \u001b[43m        \u001b[49m\u001b[43mwrite_timeout\u001b[49m\u001b[38;5;241;43m=\u001b[39;49m\u001b[43mwrite_timeout\u001b[49m\u001b[43m,\u001b[49m\n\u001b[1;32m    888\u001b[0m \u001b[43m        \u001b[49m\u001b[43mconnect_timeout\u001b[49m\u001b[38;5;241;43m=\u001b[39;49m\u001b[43mconnect_timeout\u001b[49m\u001b[43m,\u001b[49m\n\u001b[1;32m    889\u001b[0m \u001b[43m        \u001b[49m\u001b[43mpool_timeout\u001b[49m\u001b[38;5;241;43m=\u001b[39;49m\u001b[43mpool_timeout\u001b[49m\u001b[43m,\u001b[49m\n\u001b[1;32m    890\u001b[0m \u001b[43m        \u001b[49m\u001b[43mallowed_updates\u001b[49m\u001b[38;5;241;43m=\u001b[39;49m\u001b[43mallowed_updates\u001b[49m\u001b[43m,\u001b[49m\n\u001b[1;32m    891\u001b[0m \u001b[43m        \u001b[49m\u001b[43mdrop_pending_updates\u001b[49m\u001b[38;5;241;43m=\u001b[39;49m\u001b[43mdrop_pending_updates\u001b[49m\u001b[43m,\u001b[49m\n\u001b[1;32m    892\u001b[0m \u001b[43m        \u001b[49m\u001b[43merror_callback\u001b[49m\u001b[38;5;241;43m=\u001b[39;49m\u001b[43merror_callback\u001b[49m\u001b[43m,\u001b[49m\u001b[43m  \u001b[49m\u001b[38;5;66;43;03m# if there is an error in fetching updates\u001b[39;49;00m\n\u001b[1;32m    893\u001b[0m \u001b[43m    \u001b[49m\u001b[43m)\u001b[49m\u001b[43m,\u001b[49m\n\u001b[1;32m    894\u001b[0m \u001b[43m    \u001b[49m\u001b[43mclose_loop\u001b[49m\u001b[38;5;241;43m=\u001b[39;49m\u001b[43mclose_loop\u001b[49m\u001b[43m,\u001b[49m\n\u001b[1;32m    895\u001b[0m \u001b[43m    \u001b[49m\u001b[43mstop_signals\u001b[49m\u001b[38;5;241;43m=\u001b[39;49m\u001b[43mstop_signals\u001b[49m\u001b[43m,\u001b[49m\n\u001b[1;32m    896\u001b[0m \u001b[43m\u001b[49m\u001b[43m)\u001b[49m\n",
      "File \u001b[0;32m~/.local/lib/python3.12/site-packages/telegram/ext/_application.py:1109\u001b[0m, in \u001b[0;36mApplication.__run\u001b[0;34m(self, updater_coroutine, stop_signals, close_loop)\u001b[0m\n\u001b[1;32m   1107\u001b[0m \u001b[38;5;28;01mfinally\u001b[39;00m:\n\u001b[1;32m   1108\u001b[0m     \u001b[38;5;28;01mif\u001b[39;00m close_loop:\n\u001b[0;32m-> 1109\u001b[0m         \u001b[43mloop\u001b[49m\u001b[38;5;241;43m.\u001b[39;49m\u001b[43mclose\u001b[49m\u001b[43m(\u001b[49m\u001b[43m)\u001b[49m\n",
      "File \u001b[0;32m/usr/lib/python3.12/asyncio/unix_events.py:68\u001b[0m, in \u001b[0;36m_UnixSelectorEventLoop.close\u001b[0;34m(self)\u001b[0m\n\u001b[1;32m     67\u001b[0m \u001b[38;5;28;01mdef\u001b[39;00m \u001b[38;5;21mclose\u001b[39m(\u001b[38;5;28mself\u001b[39m):\n\u001b[0;32m---> 68\u001b[0m     \u001b[38;5;28;43msuper\u001b[39;49m\u001b[43m(\u001b[49m\u001b[43m)\u001b[49m\u001b[38;5;241;43m.\u001b[39;49m\u001b[43mclose\u001b[49m\u001b[43m(\u001b[49m\u001b[43m)\u001b[49m\n\u001b[1;32m     69\u001b[0m     \u001b[38;5;28;01mif\u001b[39;00m \u001b[38;5;129;01mnot\u001b[39;00m sys\u001b[38;5;241m.\u001b[39mis_finalizing():\n\u001b[1;32m     70\u001b[0m         \u001b[38;5;28;01mfor\u001b[39;00m sig \u001b[38;5;129;01min\u001b[39;00m \u001b[38;5;28mlist\u001b[39m(\u001b[38;5;28mself\u001b[39m\u001b[38;5;241m.\u001b[39m_signal_handlers):\n",
      "File \u001b[0;32m/usr/lib/python3.12/asyncio/selector_events.py:101\u001b[0m, in \u001b[0;36mBaseSelectorEventLoop.close\u001b[0;34m(self)\u001b[0m\n\u001b[1;32m     99\u001b[0m \u001b[38;5;28;01mdef\u001b[39;00m \u001b[38;5;21mclose\u001b[39m(\u001b[38;5;28mself\u001b[39m):\n\u001b[1;32m    100\u001b[0m     \u001b[38;5;28;01mif\u001b[39;00m \u001b[38;5;28mself\u001b[39m\u001b[38;5;241m.\u001b[39mis_running():\n\u001b[0;32m--> 101\u001b[0m         \u001b[38;5;28;01mraise\u001b[39;00m \u001b[38;5;167;01mRuntimeError\u001b[39;00m(\u001b[38;5;124m\"\u001b[39m\u001b[38;5;124mCannot close a running event loop\u001b[39m\u001b[38;5;124m\"\u001b[39m)\n\u001b[1;32m    102\u001b[0m     \u001b[38;5;28;01mif\u001b[39;00m \u001b[38;5;28mself\u001b[39m\u001b[38;5;241m.\u001b[39mis_closed():\n\u001b[1;32m    103\u001b[0m         \u001b[38;5;28;01mreturn\u001b[39;00m\n",
      "\u001b[0;31mRuntimeError\u001b[0m: Cannot close a running event loop"
     ]
    }
   ],
   "source": [
    "import asyncio\n",
    "import logging\n",
    "import os\n",
    "import nest_asyncio\n",
    "from sqlalchemy import create_engine, Column, Integer, String, Date\n",
    "from sqlalchemy.ext.declarative import declarative_base\n",
    "from sqlalchemy.orm import sessionmaker\n",
    "from telegram import Update, InlineKeyboardButton, InlineKeyboardMarkup\n",
    "from telegram.ext import ApplicationBuilder, CommandHandler, CallbackContext, CallbackQueryHandler, MessageHandler, filters\n",
    "from datetime import datetime\n",
    "from apscheduler.schedulers.background import BackgroundScheduler\n",
    "from cozepy import Coze, TokenAuth, Stream, WorkflowEvent, WorkflowEventType\n",
    "\n",
    "TOKEN = 'pat_zjIQwPoEmSEgB1FgzYyFGdoczfiBG0vmqNiybXpHXx4MEihZnYQRDdnqBVbfJWk5'\n",
    "WORKFLOW_ID = '7433086745733120005'\n",
    "\n",
    "coze = Coze(auth=TokenAuth(TOKEN))\n",
    "'''\n",
    "result = coze.workflows.runs.create(\n",
    "    # id of workflow\n",
    "    workflow_id='7433086745733120005',\n",
    "    # params\n",
    "    parameters={\n",
    "        'input_key': 'Я люблю',\n",
    "    }\n",
    ")\n",
    "'''\n",
    "# Применение nest_asyncio\n",
    "nest_asyncio.apply()\n",
    "\n",
    "# Настройка логирования\n",
    "logging.basicConfig(level=logging.INFO)\n",
    "logger = logging.getLogger(__name__)\n",
    "ret = []\n",
    "# Настройка SQLAlchemy\n",
    "engine = create_engine('sqlite:///example.db', echo=True)\n",
    "Base = declarative_base()\n",
    "application = ApplicationBuilder().token(\"7835047090:AAGuGpP8nitBrSZ5po_dw1OK5CmA5saD7xg\").build()\n",
    "\n",
    "class User(Base):\n",
    "    __tablename__ = 'users'\n",
    "\n",
    "    id = Column(Integer, primary_key=True, autoincrement=True)\n",
    "    telegram_id = Column(Integer, nullable=False)\n",
    "    name = Column(String, nullable=False)\n",
    "    age = Column(Integer, nullable=False)\n",
    "    reminder_date = Column(Date)\n",
    "\n",
    "Base.metadata.create_all(engine)\n",
    "Session = sessionmaker(bind=engine)\n",
    "\n",
    "# Функция для добавления пользователя\n",
    "def add_user(telegram_id, name, age, reminder_date=None):\n",
    "    session = Session()\n",
    "    try:\n",
    "        new_user = User(telegram_id = telegram_id, name=name, age=age, reminder_date=reminder_date)\n",
    "        session.add(new_user)\n",
    "        session.commit()\n",
    "        logger.info(f\"Пользователь {name} добавлен.\")\n",
    "    except Exception as e:\n",
    "        logger.error(f\"Ошибка при добавлении пользователя: {e}\")\n",
    "    finally:\n",
    "        session.close()\n",
    "\n",
    "# Функция для проверки напоминаний\n",
    "def check_reminders():\n",
    "    session = Session()\n",
    "    today = datetime.now().date()\n",
    "    month_day_today = (today.month, today.day)\n",
    "    try:\n",
    "        users_with_reminders = session.query(User).filter(User.reminder_date != None).all()\n",
    "        for user in users_with_reminders:\n",
    "            reminder_date = user.reminder_date\n",
    "            if (reminder_date.month, reminder_date.day) == month_day_today:\n",
    "                ret.append(user)\n",
    "    except Exception as e:\n",
    "        logger.error(f\"Ошибка при проверке напоминаний: {e}\")\n",
    "    finally:\n",
    "        session.close()\n",
    "\n",
    "def send_reminder(user):\n",
    "    # Логика отправки напоминания пользователю\n",
    "    logger.info(f\"Отправлено напоминание пользователю {user.name} (ID: {user.telegram_id})\")\n",
    "\n",
    "\n",
    "#Проверка\n",
    "def checkDate(update: Update, context: CallbackContext):\n",
    "    update.message.reply_text(\"bebra\")\n",
    "\n",
    "\n",
    "# Обработчик команды /start\n",
    "async def start(update: Update, context: CallbackContext):\n",
    "    keyboard = [\n",
    "        [InlineKeyboardButton(\"Добавить нового человека\", callback_data='add_user')],\n",
    "        [InlineKeyboardButton(\"Сгенерировать поздравление\", callback_data='generate_subordinate')]\n",
    "    ]\n",
    "    \n",
    "    reply_markup = InlineKeyboardMarkup(keyboard)\n",
    "    await update.message.reply_text('Что вы хотите сделать?', reply_markup=reply_markup)\n",
    "\n",
    "# Обработчик нажатий на кнопки\n",
    "async def button(update: Update, context: CallbackContext):\n",
    "    query = update.callback_query\n",
    "    await query.answer()\n",
    "\n",
    "    if query.data == 'add_user':\n",
    "        await query.edit_message_text(text=\"Пожалуйста, введите имя, возраст и дату напоминания в формате: Имя, Возраст, Дата (ГГГГ-ММ-ДД)\")\n",
    "        context.user_data['action'] = 'add_user'\n",
    "    elif query.data == 'generate_subordinate':\n",
    "        await query.edit_message_text(text=\"Пожалуйста, введите ID человека, для которого нужно сгенерировать поздравление.\")\n",
    "        context.user_data['action'] = 'generate_subordinate'\n",
    "\n",
    "# Обработчик текстовых сообщений\n",
    "async def handle_message(update: Update, context: CallbackContext):\n",
    "    action = context.user_data.get('action')\n",
    "\n",
    "    if action == 'add_user':\n",
    "        try:\n",
    "            name, age, reminder_date = update.message.text.split(', ')\n",
    "            age = int(age)\n",
    "            telegram_id = update.message.from_user.id\n",
    "            reminder_date = datetime.strptime(reminder_date, '%Y-%m-%d').date()\n",
    "            add_user(telegram_id, name, age, reminder_date)\n",
    "            await update.message.reply_text(f'Пользователь {name} добавлен с напоминанием на {reminder_date}!')\n",
    "        except ValueError:\n",
    "            await update.message.reply_text('Ошибка формата. Пожалуйста, введите данные в формате: Имя, Возраст, Дата (ГГГГ-ММ-ДД)')\n",
    "        except Exception as e:\n",
    "            await update.message.reply_text(f'Произошла ошибка: {e}')\n",
    "    elif action == 'generate_subordinate':\n",
    "        try:\n",
    "            user_id = int(update.message.text)\n",
    "            await update.message.reply_text(f'Поздраление для пользователя с ID {user_id} сгенерировано.')\n",
    "        except ValueError:\n",
    "            await update.message.reply_text('Пожалуйста, введите корректный ID.')\n",
    "\n",
    "# Основная функция для запуска бота\n",
    "async def main():\n",
    "    # Замените 'YOUR_TOKEN' на токен вашего бота\n",
    "    application.add_handler(CommandHandler(\"start\", start))\n",
    "    application.add_handler(CallbackQueryHandler(button))\n",
    "    application.add_handler(MessageHandler(filters.TEXT & ~filters.COMMAND, handle_message))\n",
    "    #application.add_handler(MessageHandler(checkDate))\n",
    "    # Настройка APScheduler\n",
    "    scheduler = BackgroundScheduler()\n",
    "    scheduler.add_job(check_reminders, 'cron', minute=12)  # Запускаем check_reminders каждый день в 9:00\n",
    "    scheduler.start()\n",
    "\n",
    "    try:\n",
    "        await application.run_polling()\n",
    "    finally:\n",
    "        scheduler.shutdown()  # Завершение работы планировщика\n",
    "        logger.info(\"Бот остановлен.\")\n",
    "\n",
    "# Запуск основного цикла\n",
    "if __name__ == '__main__':\n",
    "    # Запуск в фоновом режиме\n",
    "    asyncio.run(main())\n"
   ]
  },
  {
   "cell_type": "code",
   "execution_count": null,
   "id": "d6c91be2",
   "metadata": {},
   "outputs": [],
   "source": []
  }
 ],
 "metadata": {
  "kernelspec": {
   "display_name": "Python 3",
   "language": "python",
   "name": "python3"
  },
  "language_info": {
   "codemirror_mode": {
    "name": "ipython",
    "version": 3
   },
   "file_extension": ".py",
   "mimetype": "text/x-python",
   "name": "python",
   "nbconvert_exporter": "python",
   "pygments_lexer": "ipython3",
   "version": "3.12.3"
  }
 },
 "nbformat": 4,
 "nbformat_minor": 5
}
